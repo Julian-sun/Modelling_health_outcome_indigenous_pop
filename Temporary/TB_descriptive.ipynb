{
 "cells": [
  {
   "cell_type": "markdown",
   "metadata": {},
   "source": [
    "### This script peform a first descriptive analysis of TB dataset, with particular focus on studying the quality of TB cases among Indigenous populations."
   ]
  },
  {
   "cell_type": "code",
   "execution_count": 1,
   "metadata": {},
   "outputs": [],
   "source": [
    "import pandas as pd"
   ]
  },
  {
   "cell_type": "code",
   "execution_count": 4,
   "metadata": {},
   "outputs": [],
   "source": [
    "df = pd.read_csv('/Users/julianeoliveira/Documents/Projects/Bruno/Datalake/sinan_TB.csv', low_memory=False)"
   ]
  },
  {
   "cell_type": "code",
   "execution_count": 6,
   "metadata": {},
   "outputs": [
    {
     "data": {
      "text/plain": [
       "Index(['TP_NOT', 'ID_AGRAVO', 'DT_NOTIFIC', 'NU_ANO', 'SG_UF_NOT',\n",
       "       'ID_MUNICIP', 'ID_REGIONA', 'DT_DIAG', 'ANO_NASC', 'NU_IDADE_N',\n",
       "       'CS_SEXO', 'CS_GESTANT', 'CS_RACA', 'CS_ESCOL_N', 'SG_UF', 'ID_MN_RESI',\n",
       "       'ID_RG_RESI', 'ID_PAIS', 'NDUPLIC_N', 'IN_VINCULA', 'DT_DIGITA',\n",
       "       'DT_TRANSUS', 'DT_TRANSDM', 'DT_TRANSSM', 'DT_TRANSRM', 'DT_TRANSRS',\n",
       "       'DT_TRANSSE', 'CS_FLXRET', 'FLXRECEBI', 'MIGRADO_W', 'ID_OCUPA_N',\n",
       "       'TRATAMENTO', 'INSTITUCIO', 'RAIOX_TORA', 'TESTE_TUBE', 'FORMA',\n",
       "       'EXTRAPU1_N', 'EXTRAPU2_N', 'EXTRAPUL_O', 'AGRAVAIDS', 'AGRAVALCOO',\n",
       "       'AGRAVDIABE', 'AGRAVDOENC', 'AGRAVOUTRA', 'AGRAVOUTDE', 'BACILOSC_E',\n",
       "       'BACILOS_E2', 'BACILOSC_O', 'CULTURA_ES', 'CULTURA_OU', 'HIV',\n",
       "       'HISTOPATOL', 'DT_INIC_TR', 'RIFAMPICIN', 'ISONIAZIDA', 'ETAMBUTOL',\n",
       "       'ESTREPTOMI', 'PIRAZINAMI', 'ETIONAMIDA', 'OUTRAS', 'OUTRAS_DES',\n",
       "       'TRAT_SUPER', 'NU_CONTATO', 'DOENCA_TRA', 'SG_UF_AT', 'ID_MUNIC_A',\n",
       "       'DT_NOTI_AT', 'SG_UF_2', 'ID_MUNIC_2', 'BACILOSC_1', 'BACILOSC_2',\n",
       "       'BACILOSC_3', 'BACILOSC_4', 'BACILOSC_5', 'BACILOSC_6', 'TRATSUP_AT',\n",
       "       'DT_MUDANCA', 'NU_COMU_EX', 'SITUA_9_M', 'SITUA_12_M', 'SITUA_ENCE',\n",
       "       'DT_ENCERRA', 'TPUNINOT', 'POP_LIBER', 'POP_RUA', 'POP_SAUDE',\n",
       "       'POP_IMIG', 'BENEF_GOV', 'AGRAVDROGA', 'AGRAVTABAC', 'TEST_MOLEC',\n",
       "       'TEST_SENSI', 'ANT_RETRO', 'BAC_APOS_6', 'TRANSF', 'UF_TRANSF',\n",
       "       'MUN_TRANSF'],\n",
       "      dtype='object')"
      ]
     },
     "execution_count": 6,
     "metadata": {},
     "output_type": "execute_result"
    }
   ],
   "source": [
    "df.columns"
   ]
  },
  {
   "cell_type": "code",
   "execution_count": 11,
   "metadata": {},
   "outputs": [
    {
     "name": "stdout",
     "output_type": "stream",
     "text": [
      "<class 'pandas.core.frame.DataFrame'>\n",
      "RangeIndex: 2091711 entries, 0 to 2091710\n",
      "Data columns (total 97 columns):\n",
      " #   Column      Dtype  \n",
      "---  ------      -----  \n",
      " 0   TP_NOT      int64  \n",
      " 1   ID_AGRAVO   object \n",
      " 2   DT_NOTIFIC  object \n",
      " 3   NU_ANO      int64  \n",
      " 4   SG_UF_NOT   int64  \n",
      " 5   ID_MUNICIP  float64\n",
      " 6   ID_REGIONA  float64\n",
      " 7   DT_DIAG     object \n",
      " 8   ANO_NASC    object \n",
      " 9   NU_IDADE_N  float64\n",
      " 10  CS_SEXO     object \n",
      " 11  CS_GESTANT  float64\n",
      " 12  CS_RACA     float64\n",
      " 13  CS_ESCOL_N  float64\n",
      " 14  SG_UF       int64  \n",
      " 15  ID_MN_RESI  int64  \n",
      " 16  ID_RG_RESI  float64\n",
      " 17  ID_PAIS     float64\n",
      " 18  NDUPLIC_N   float64\n",
      " 19  IN_VINCULA  float64\n",
      " 20  DT_DIGITA   object \n",
      " 21  DT_TRANSUS  object \n",
      " 22  DT_TRANSDM  float64\n",
      " 23  DT_TRANSSM  float64\n",
      " 24  DT_TRANSRM  float64\n",
      " 25  DT_TRANSRS  float64\n",
      " 26  DT_TRANSSE  float64\n",
      " 27  CS_FLXRET   float64\n",
      " 28  FLXRECEBI   float64\n",
      " 29  MIGRADO_W   float64\n",
      " 30  ID_OCUPA_N  float64\n",
      " 31  TRATAMENTO  int64  \n",
      " 32  INSTITUCIO  float64\n",
      " 33  RAIOX_TORA  float64\n",
      " 34  TESTE_TUBE  float64\n",
      " 35  FORMA       float64\n",
      " 36  EXTRAPU1_N  object \n",
      " 37  EXTRAPU2_N  float64\n",
      " 38  EXTRAPUL_O  object \n",
      " 39  AGRAVAIDS   float64\n",
      " 40  AGRAVALCOO  float64\n",
      " 41  AGRAVDIABE  float64\n",
      " 42  AGRAVDOENC  float64\n",
      " 43  AGRAVOUTRA  float64\n",
      " 44  AGRAVOUTDE  object \n",
      " 45  BACILOSC_E  float64\n",
      " 46  BACILOS_E2  object \n",
      " 47  BACILOSC_O  float64\n",
      " 48  CULTURA_ES  float64\n",
      " 49  CULTURA_OU  float64\n",
      " 50  HIV         float64\n",
      " 51  HISTOPATOL  float64\n",
      " 52  DT_INIC_TR  object \n",
      " 53  RIFAMPICIN  float64\n",
      " 54  ISONIAZIDA  float64\n",
      " 55  ETAMBUTOL   float64\n",
      " 56  ESTREPTOMI  float64\n",
      " 57  PIRAZINAMI  float64\n",
      " 58  ETIONAMIDA  object \n",
      " 59  OUTRAS      float64\n",
      " 60  OUTRAS_DES  object \n",
      " 61  TRAT_SUPER  float64\n",
      " 62  NU_CONTATO  float64\n",
      " 63  DOENCA_TRA  float64\n",
      " 64  SG_UF_AT    float64\n",
      " 65  ID_MUNIC_A  float64\n",
      " 66  DT_NOTI_AT  object \n",
      " 67  SG_UF_2     float64\n",
      " 68  ID_MUNIC_2  float64\n",
      " 69  BACILOSC_1  float64\n",
      " 70  BACILOSC_2  float64\n",
      " 71  BACILOSC_3  float64\n",
      " 72  BACILOSC_4  float64\n",
      " 73  BACILOSC_5  float64\n",
      " 74  BACILOSC_6  float64\n",
      " 75  TRATSUP_AT  float64\n",
      " 76  DT_MUDANCA  object \n",
      " 77  NU_COMU_EX  float64\n",
      " 78  SITUA_9_M   float64\n",
      " 79  SITUA_12_M  float64\n",
      " 80  SITUA_ENCE  float64\n",
      " 81  DT_ENCERRA  object \n",
      " 82  TPUNINOT    float64\n",
      " 83  POP_LIBER   float64\n",
      " 84  POP_RUA     float64\n",
      " 85  POP_SAUDE   float64\n",
      " 86  POP_IMIG    float64\n",
      " 87  BENEF_GOV   float64\n",
      " 88  AGRAVDROGA  float64\n",
      " 89  AGRAVTABAC  float64\n",
      " 90  TEST_MOLEC  float64\n",
      " 91  TEST_SENSI  float64\n",
      " 92  ANT_RETRO   float64\n",
      " 93  BAC_APOS_6  float64\n",
      " 94  TRANSF      float64\n",
      " 95  UF_TRANSF   float64\n",
      " 96  MUN_TRANSF  object \n",
      "dtypes: float64(73), int64(6), object(18)\n",
      "memory usage: 1.5+ GB\n"
     ]
    }
   ],
   "source": [
    "df.info()"
   ]
  },
  {
   "cell_type": "code",
   "execution_count": 9,
   "metadata": {},
   "outputs": [
    {
     "data": {
      "text/plain": [
       "0          1.0\n",
       "1          5.0\n",
       "2          4.0\n",
       "3          4.0\n",
       "4          4.0\n",
       "          ... \n",
       "2091706    2.0\n",
       "2091707    1.0\n",
       "2091708    2.0\n",
       "2091709    1.0\n",
       "2091710    4.0\n",
       "Name: CS_RACA, Length: 2091711, dtype: float64"
      ]
     },
     "execution_count": 9,
     "metadata": {},
     "output_type": "execute_result"
    }
   ],
   "source": [
    "df['CS_RACA']"
   ]
  },
  {
   "cell_type": "code",
   "execution_count": null,
   "metadata": {},
   "outputs": [],
   "source": []
  }
 ],
 "metadata": {
  "kernelspec": {
   "display_name": "Python 3",
   "language": "python",
   "name": "python3"
  },
  "language_info": {
   "codemirror_mode": {
    "name": "ipython",
    "version": 3
   },
   "file_extension": ".py",
   "mimetype": "text/x-python",
   "name": "python",
   "nbconvert_exporter": "python",
   "pygments_lexer": "ipython3",
   "version": "3.8.5"
  }
 },
 "nbformat": 4,
 "nbformat_minor": 4
}
