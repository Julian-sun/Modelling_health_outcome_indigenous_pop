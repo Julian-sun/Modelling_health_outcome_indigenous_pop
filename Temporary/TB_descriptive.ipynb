{
 "cells": [
  {
   "cell_type": "markdown",
   "metadata": {},
   "source": [
    "### This script peform a first descriptive analysis of TB dataset, with particular focus on studying the quality of TB cases among vulnerable populations."
   ]
  },
  {
   "cell_type": "code",
   "execution_count": 56,
   "metadata": {},
   "outputs": [],
   "source": [
    "import pandas as pd\n",
    "import numpy as np\n",
    "import matplotlib.pyplot as plt\n",
    "import seaborn as sns\n",
    "from scipy.stats import kendalltau\n",
    "from scipy.stats import mannwhitneyu\n"
   ]
  },
  {
   "cell_type": "markdown",
   "metadata": {},
   "source": [
    "# Read data"
   ]
  },
  {
   "cell_type": "code",
   "execution_count": 30,
   "metadata": {},
   "outputs": [],
   "source": [
    "df = pd.read_csv('/Users/julianeoliveira/Documents/Projects/Bruno/Datalake/sinan_TB.csv', low_memory=False)"
   ]
  },
  {
   "cell_type": "markdown",
   "metadata": {},
   "source": [
    "# Pre-processing the data"
   ]
  },
  {
   "cell_type": "code",
   "execution_count": 31,
   "metadata": {},
   "outputs": [],
   "source": [
    "df = df.assign(NU_ANO = df.NU_ANO.astype(int),\n",
    "               ones = 1,\n",
    "               CS_SEXO = df.CS_SEXO.astype(str)\n",
    "              )\n",
    "\n",
    "df = df[(df.NU_ANO >= 2001) & (df.NU_ANO < 2024)]\n",
    "\n",
    "df = df[df.CS_SEXO != 'I']\n",
    "\n",
    "df['FORMA'] = df['FORMA'].replace([np.inf, -np.inf], np.nan)\n",
    "df['FORMA'] = df['FORMA'].fillna(9)\n",
    "df['FORMA'] = df['FORMA'].replace([0], 9)\n",
    "df['FORMA'] = df['FORMA'].astype(int)\n",
    "\n",
    "df['CS_RACA'] = df['CS_RACA'].replace([np.inf, -np.inf], np.nan)\n",
    "df['CS_RACA'] = df['CS_RACA'].fillna(9)\n",
    "df['CS_RACA'] = df['CS_RACA'].replace([0, 6], 9)\n",
    "df['CS_RACA'] = df['CS_RACA'].astype(int)\n",
    "\n",
    "df['POP_LIBER'] = df['POP_LIBER'].replace([np.inf, -np.inf], np.nan) \n",
    "df['POP_LIBER'] = df['POP_LIBER'].replace([0, 9], np.nan)\n",
    "\n",
    "df['POP_RUA'] = df['POP_RUA'].replace([np.inf, -np.inf], np.nan) \n",
    "df['POP_RUA'] = df['POP_RUA'].replace([0, 9], np.nan)\n",
    "\n",
    "df['POP_SAUDE'] = df['POP_SAUDE'].replace([np.inf, -np.inf], np.nan) \n",
    "df['POP_SAUDE'] = df['POP_SAUDE'].replace([0, 3, 9], np.nan)\n",
    "\n",
    "df['POP_IMIG'] = df['POP_IMIG'].replace([np.inf, -np.inf], np.nan) \n",
    "df['POP_IMIG'] = df['POP_IMIG'].replace([0, 3, 9], np.nan)\n",
    "\n",
    "df['BENEF_GOV'] = df['BENEF_GOV'].replace([np.inf, -np.inf], np.nan) \n",
    "df['BENEF_GOV'] = df['BENEF_GOV'].replace([0, 3, 4, 5, 6, 7, 8, 9], np.nan)"
   ]
  },
  {
   "cell_type": "code",
   "execution_count": 32,
   "metadata": {},
   "outputs": [],
   "source": [
    "#### The following variables are null and we will exclude from the data\n",
    "\n",
    "#DT_TRANSDM, DT_TRANSSM, DT_TRANSRM, DT_TRANSRS, DT_TRANSSE, CS_FLXRET,FLXRECEBI\n",
    "\n",
    "cols_to_drop = [\n",
    "    'DT_TRANSDM', 'DT_TRANSSM', 'DT_TRANSRM',\n",
    "    'DT_TRANSRS', 'DT_TRANSSE', 'CS_FLXRET', 'FLXRECEBI'\n",
    "]\n",
    "\n",
    "# Drop the columns\n",
    "df.drop(columns=cols_to_drop, inplace=True)"
   ]
  },
  {
   "cell_type": "code",
   "execution_count": 36,
   "metadata": {},
   "outputs": [],
   "source": [
    "### Set period of study and type of TB valid\n",
    "\n",
    "df = df[(df.NU_ANO >= 2005) & (df.FORMA != 9)]"
   ]
  },
  {
   "cell_type": "markdown",
   "metadata": {},
   "source": [
    "### 1. **General Overview**\n",
    "- **Total number of TB cases** in the dataset.\n",
    "- **Time series**: Number of cases per year/month (`DT_NOTIFIC`, `NU_ANO`).\n",
    "- **Geographical distribution**:\n",
    "  - By **region/state** (`SG_UF`, `ID_MUNICIP`, `ID_REGIONA`).\n",
    "  - By **municipality of residence** (`ID_MN_RESI`), especially if you want to detect clusters or priority areas.\n"
   ]
  },
  {
   "cell_type": "code",
   "execution_count": 37,
   "metadata": {},
   "outputs": [
    {
     "data": {
      "text/plain": [
       "1723449"
      ]
     },
     "execution_count": 37,
     "metadata": {},
     "output_type": "execute_result"
    }
   ],
   "source": [
    "# Total number of registries in the dataset\n",
    "len(df)"
   ]
  },
  {
   "cell_type": "code",
   "execution_count": 40,
   "metadata": {},
   "outputs": [],
   "source": [
    "#1. Pulmonar 2. Extrapulmonar 3. Pulmonar + Extrapulmonar\n",
    "forma = df.FORMA.value_counts().reset_index()"
   ]
  },
  {
   "cell_type": "code",
   "execution_count": 43,
   "metadata": {},
   "outputs": [],
   "source": [
    "forma = forma.assign(per = round(forma.FORMA*100/len(df),1))"
   ]
  },
  {
   "cell_type": "code",
   "execution_count": 44,
   "metadata": {
    "scrolled": true
   },
   "outputs": [
    {
     "data": {
      "text/html": [
       "<div>\n",
       "<style scoped>\n",
       "    .dataframe tbody tr th:only-of-type {\n",
       "        vertical-align: middle;\n",
       "    }\n",
       "\n",
       "    .dataframe tbody tr th {\n",
       "        vertical-align: top;\n",
       "    }\n",
       "\n",
       "    .dataframe thead th {\n",
       "        text-align: right;\n",
       "    }\n",
       "</style>\n",
       "<table border=\"1\" class=\"dataframe\">\n",
       "  <thead>\n",
       "    <tr style=\"text-align: right;\">\n",
       "      <th></th>\n",
       "      <th>index</th>\n",
       "      <th>FORMA</th>\n",
       "      <th>per</th>\n",
       "    </tr>\n",
       "  </thead>\n",
       "  <tbody>\n",
       "    <tr>\n",
       "      <th>0</th>\n",
       "      <td>1</td>\n",
       "      <td>1450073</td>\n",
       "      <td>84.1</td>\n",
       "    </tr>\n",
       "    <tr>\n",
       "      <th>1</th>\n",
       "      <td>2</td>\n",
       "      <td>217702</td>\n",
       "      <td>12.6</td>\n",
       "    </tr>\n",
       "    <tr>\n",
       "      <th>2</th>\n",
       "      <td>3</td>\n",
       "      <td>55674</td>\n",
       "      <td>3.2</td>\n",
       "    </tr>\n",
       "  </tbody>\n",
       "</table>\n",
       "</div>"
      ],
      "text/plain": [
       "   index    FORMA   per\n",
       "0      1  1450073  84.1\n",
       "1      2   217702  12.6\n",
       "2      3    55674   3.2"
      ]
     },
     "execution_count": 44,
     "metadata": {},
     "output_type": "execute_result"
    }
   ],
   "source": [
    "forma"
   ]
  },
  {
   "cell_type": "code",
   "execution_count": 18,
   "metadata": {},
   "outputs": [],
   "source": [
    "#(df.count()*100/len(df)).to_csv('/Users/julianeoliveira/Documents/github/Modelling_health_outcome_indigenous_pop/Data_outputs/count_of_non_null.csv')"
   ]
  },
  {
   "cell_type": "code",
   "execution_count": 51,
   "metadata": {},
   "outputs": [
    {
     "data": {
      "text/plain": [
       "2023    114111\n",
       "2022    106498\n",
       "2019     98962\n",
       "2018     94641\n",
       "2021     93591\n",
       "2005     91229\n",
       "2017     90311\n",
       "2020     88213\n",
       "2011     87596\n",
       "2006     87256\n",
       "2013     86719\n",
       "2009     86665\n",
       "2008     86413\n",
       "2012     86100\n",
       "2016     85758\n",
       "2010     85372\n",
       "2015     85277\n",
       "2014     84923\n",
       "2007     83814\n",
       "Name: NU_ANO, dtype: int64"
      ]
     },
     "execution_count": 51,
     "metadata": {},
     "output_type": "execute_result"
    }
   ],
   "source": [
    "# Number of registries per year\n",
    "df.NU_ANO.value_counts()"
   ]
  },
  {
   "cell_type": "code",
   "execution_count": 52,
   "metadata": {
    "scrolled": true
   },
   "outputs": [
    {
     "data": {
      "image/png": "[encoded data removed]",
      "text/plain": [
       "<Figure size 864x432 with 1 Axes>"
      ]
     },
     "metadata": {},
     "output_type": "display_data"
    }
   ],
   "source": [
    "# Prepare data\n",
    "data = df.NU_ANO.value_counts().reset_index()\n",
    "data = data.rename(columns={'index': 'Year', 'NU_ANO': 'Notifications'}).sort_values(\"Year\")\n",
    "data = data.assign(Year = data.Year.astype(int))\n",
    "data = data[data.Year >= 2005]\n",
    "\n",
    "# Set ggplot-style aesthetics\n",
    "sns.set_theme(style=\"whitegrid\", context='talk')  # 'talk' makes fonts bigger (good for presentations)\n",
    "\n",
    "# Plot\n",
    "plt.figure(figsize=(12, 6))\n",
    "#sns.lineplot(data=data, x=\"Year\", y=\"Notifications\", marker=\"o\", label=\"TB Notifications\", linewidth=2.5)\n",
    "#sns.regplot(data=data, x=\"Year\", y=\"Notifications\", scatter=False, lowess=True, label=\"Trend\", color='blue',line_kws={'linewidth': 1})\n",
    "\n",
    "# Define custom colors\n",
    "main_line_color = \"#4D4D4D\"   # Medium grey for main line\n",
    "trend_line_color = \"#B3B3B3\"  # Light grey for trend line\n",
    "\n",
    "# Plot lines\n",
    "sns.lineplot(\n",
    "    data=data, x=\"Year\", y=\"Notifications\", marker=\"o\", \n",
    "    label=\"Notifications\", linewidth=2.5, color=main_line_color\n",
    ")\n",
    "\n",
    "sns.regplot(\n",
    "    data=data, x=\"Year\", y=\"Notifications\", scatter=False, lowess=True, \n",
    "    label=\"Trend\", color=trend_line_color, line_kws={'linewidth': 2, 'linestyle': '--'}\n",
    ")\n",
    "\n",
    "\n",
    "# Add vertical line at 2015\n",
    "plt.axvline(x=2015, color='black', linestyle='--', linewidth=2)\n",
    "plt.text(2015 + 0.2, data[\"Notifications\"].max() * 0.95, \"Start of End TB Strategy\", \n",
    "         rotation=90, verticalalignment='top', fontsize=12, color='black')\n",
    "\n",
    "\n",
    "# Titles and labels\n",
    "#plt.title(\"TB Notifications in Brazil by Year\", fontsize=20, weight='bold')\n",
    "plt.xlabel(\"Year\", fontsize=16)\n",
    "plt.ylabel(\"Number of New Cases\", fontsize=16)\n",
    "plt.xticks(rotation=45, fontsize=12)\n",
    "plt.yticks(fontsize=12)\n",
    "plt.legend(fontsize=12)\n",
    "\n",
    "plt.tight_layout()\n",
    "\n",
    "plt.savefig(\"/Users/julianeoliveira/Documents/github/Modelling_health_outcome_indigenous_pop/Results/tb_notifications_brazil.pdf\", format='pdf', bbox_inches='tight')\n",
    "plt.show()\n",
    "\n"
   ]
  },
  {
   "cell_type": "code",
   "execution_count": 53,
   "metadata": {},
   "outputs": [
    {
     "name": "stdout",
     "output_type": "stream",
     "text": [
      "Kendall’s tau: 0.4152\n",
      "P-value: 0.01282\n"
     ]
    }
   ],
   "source": [
    "# Perform Kendall's tau test\n",
    "tau, p_value = kendalltau(data[\"Year\"], data[\"Notifications\"])\n",
    "\n",
    "# Output results\n",
    "print(f\"Kendall’s tau: {tau:.4f}\")\n",
    "print(f\"P-value: {p_value:.4g}\")\n"
   ]
  },
  {
   "cell_type": "code",
   "execution_count": 55,
   "metadata": {},
   "outputs": [],
   "source": [
    "# Relative change in the median of TB cases before 2015 and 2016 onward"
   ]
  },
  {
   "cell_type": "code",
   "execution_count": 58,
   "metadata": {
    "scrolled": true
   },
   "outputs": [
    {
     "data": {
      "text/plain": [
       "Index(['Year', 'Notifications'], dtype='object')"
      ]
     },
     "execution_count": 58,
     "metadata": {},
     "output_type": "execute_result"
    }
   ],
   "source": [
    "data.columns"
   ]
  },
  {
   "cell_type": "code",
   "execution_count": 61,
   "metadata": {
    "scrolled": true
   },
   "outputs": [
    {
     "data": {
      "text/html": [
       "<div>\n",
       "<style scoped>\n",
       "    .dataframe tbody tr th:only-of-type {\n",
       "        vertical-align: middle;\n",
       "    }\n",
       "\n",
       "    .dataframe tbody tr th {\n",
       "        vertical-align: top;\n",
       "    }\n",
       "\n",
       "    .dataframe thead th {\n",
       "        text-align: right;\n",
       "    }\n",
       "</style>\n",
       "<table border=\"1\" class=\"dataframe\">\n",
       "  <thead>\n",
       "    <tr style=\"text-align: right;\">\n",
       "      <th></th>\n",
       "      <th>Year</th>\n",
       "      <th>Notifications</th>\n",
       "    </tr>\n",
       "  </thead>\n",
       "  <tbody>\n",
       "    <tr>\n",
       "      <th>5</th>\n",
       "      <td>2005</td>\n",
       "      <td>91229</td>\n",
       "    </tr>\n",
       "    <tr>\n",
       "      <th>9</th>\n",
       "      <td>2006</td>\n",
       "      <td>87256</td>\n",
       "    </tr>\n",
       "    <tr>\n",
       "      <th>18</th>\n",
       "      <td>2007</td>\n",
       "      <td>83814</td>\n",
       "    </tr>\n",
       "    <tr>\n",
       "      <th>12</th>\n",
       "      <td>2008</td>\n",
       "      <td>86413</td>\n",
       "    </tr>\n",
       "    <tr>\n",
       "      <th>11</th>\n",
       "      <td>2009</td>\n",
       "      <td>86665</td>\n",
       "    </tr>\n",
       "    <tr>\n",
       "      <th>15</th>\n",
       "      <td>2010</td>\n",
       "      <td>85372</td>\n",
       "    </tr>\n",
       "    <tr>\n",
       "      <th>8</th>\n",
       "      <td>2011</td>\n",
       "      <td>87596</td>\n",
       "    </tr>\n",
       "    <tr>\n",
       "      <th>13</th>\n",
       "      <td>2012</td>\n",
       "      <td>86100</td>\n",
       "    </tr>\n",
       "    <tr>\n",
       "      <th>10</th>\n",
       "      <td>2013</td>\n",
       "      <td>86719</td>\n",
       "    </tr>\n",
       "    <tr>\n",
       "      <th>17</th>\n",
       "      <td>2014</td>\n",
       "      <td>84923</td>\n",
       "    </tr>\n",
       "    <tr>\n",
       "      <th>16</th>\n",
       "      <td>2015</td>\n",
       "      <td>85277</td>\n",
       "    </tr>\n",
       "    <tr>\n",
       "      <th>14</th>\n",
       "      <td>2016</td>\n",
       "      <td>85758</td>\n",
       "    </tr>\n",
       "    <tr>\n",
       "      <th>6</th>\n",
       "      <td>2017</td>\n",
       "      <td>90311</td>\n",
       "    </tr>\n",
       "    <tr>\n",
       "      <th>3</th>\n",
       "      <td>2018</td>\n",
       "      <td>94641</td>\n",
       "    </tr>\n",
       "    <tr>\n",
       "      <th>2</th>\n",
       "      <td>2019</td>\n",
       "      <td>98962</td>\n",
       "    </tr>\n",
       "    <tr>\n",
       "      <th>7</th>\n",
       "      <td>2020</td>\n",
       "      <td>88213</td>\n",
       "    </tr>\n",
       "    <tr>\n",
       "      <th>4</th>\n",
       "      <td>2021</td>\n",
       "      <td>93591</td>\n",
       "    </tr>\n",
       "    <tr>\n",
       "      <th>1</th>\n",
       "      <td>2022</td>\n",
       "      <td>106498</td>\n",
       "    </tr>\n",
       "    <tr>\n",
       "      <th>0</th>\n",
       "      <td>2023</td>\n",
       "      <td>114111</td>\n",
       "    </tr>\n",
       "  </tbody>\n",
       "</table>\n",
       "</div>"
      ],
      "text/plain": [
       "    Year  Notifications\n",
       "5   2005          91229\n",
       "9   2006          87256\n",
       "18  2007          83814\n",
       "12  2008          86413\n",
       "11  2009          86665\n",
       "15  2010          85372\n",
       "8   2011          87596\n",
       "13  2012          86100\n",
       "10  2013          86719\n",
       "17  2014          84923\n",
       "16  2015          85277\n",
       "14  2016          85758\n",
       "6   2017          90311\n",
       "3   2018          94641\n",
       "2   2019          98962\n",
       "7   2020          88213\n",
       "4   2021          93591\n",
       "1   2022         106498\n",
       "0   2023         114111"
      ]
     },
     "execution_count": 61,
     "metadata": {},
     "output_type": "execute_result"
    }
   ],
   "source": [
    "data"
   ]
  },
  {
   "cell_type": "code",
   "execution_count": 85,
   "metadata": {},
   "outputs": [
    {
     "name": "stdout",
     "output_type": "stream",
     "text": [
      "Median Difference: 7703.00\n",
      "95% Confidence Interval: [2597.00, 17453.00]\n",
      "Mann–Whitney U Test: U=9.00, p-value=0.0044\n"
     ]
    }
   ],
   "source": [
    "# --- Step 1: Get median difference ---\n",
    "med1 = np.median(data[data[\"Year\"] <= 2015][\"Notifications\"])\n",
    "med2 = np.median(data[data[\"Year\"] > 2015][\"Notifications\"])\n",
    "diff = med2 - med1\n",
    "print(f\"Median Difference: {diff:.2f}\")\n",
    "\n",
    "# --- Step 2: Bootstrap CI for median difference ---\n",
    "n_boot = 1000\n",
    "boot_diffs = []\n",
    "\n",
    "group1 = data[data[\"Year\"] <= 2015][\"Notifications\"].to_numpy()\n",
    "group2 = data[data[\"Year\"] > 2015][\"Notifications\"].to_numpy()\n",
    "\n",
    "for _ in range(n_boot):\n",
    "    boot1 = np.random.choice(group1, size=len(group1), replace=True)\n",
    "    boot2 = np.random.choice(group2, size=len(group2), replace=True)\n",
    "    boot_diffs.append(np.median(boot2) - np.median(boot1))\n",
    "\n",
    "# Confidence interval\n",
    "ci_low, ci_high = np.percentile(boot_diffs, [2.5, 97.5])\n",
    "print(f\"95% Confidence Interval: [{ci_low:.2f}, {ci_high:.2f}]\")\n",
    "\n",
    "# --- Step 3: Mann-Whitney U Test (non-parametric) ---\n",
    "stat, p_value = mannwhitneyu(group1, group2, alternative='two-sided')\n",
    "print(f\"Mann–Whitney U Test: U={stat:.2f}, p-value={p_value:.4f}\")\n"
   ]
  },
  {
   "cell_type": "code",
   "execution_count": 81,
   "metadata": {
    "scrolled": false
   },
   "outputs": [
    {
     "data": {
      "text/plain": [
       "86413.0"
      ]
     },
     "execution_count": 81,
     "metadata": {},
     "output_type": "execute_result"
    }
   ],
   "source": [
    "med1"
   ]
  },
  {
   "cell_type": "code",
   "execution_count": 88,
   "metadata": {},
   "outputs": [
    {
     "data": {
      "text/plain": [
       "94116.0"
      ]
     },
     "execution_count": 88,
     "metadata": {},
     "output_type": "execute_result"
    }
   ],
   "source": [
    "med2"
   ]
  },
  {
   "cell_type": "code",
   "execution_count": 86,
   "metadata": {},
   "outputs": [
    {
     "data": {
      "text/plain": [
       "array([84091.25, 90320.75])"
      ]
     },
     "execution_count": 86,
     "metadata": {},
     "output_type": "execute_result"
    }
   ],
   "source": [
    "np.percentile(data[data[\"Year\"] <= 2015][\"Notifications\"], [2.5, 97.5])"
   ]
  },
  {
   "cell_type": "code",
   "execution_count": 87,
   "metadata": {},
   "outputs": [
    {
     "data": {
      "text/plain": [
       "array([ 86187.625, 112778.725])"
      ]
     },
     "execution_count": 87,
     "metadata": {},
     "output_type": "execute_result"
    }
   ],
   "source": [
    "np.percentile(data[data[\"Year\"] > 2015][\"Notifications\"], [2.5, 97.5])"
   ]
  },
  {
   "cell_type": "code",
   "execution_count": 90,
   "metadata": {},
   "outputs": [
    {
     "data": {
      "text/plain": [
       "8.9"
      ]
     },
     "execution_count": 90,
     "metadata": {},
     "output_type": "execute_result"
    }
   ],
   "source": [
    "round((med2 - med1)*100/med1,1)"
   ]
  },
  {
   "cell_type": "code",
   "execution_count": 80,
   "metadata": {},
   "outputs": [
    {
     "data": {
      "image/png": "[encoded data removed]",
      "text/plain": [
       "<Figure size 720x432 with 1 Axes>"
      ]
     },
     "metadata": {},
     "output_type": "display_data"
    }
   ],
   "source": [
    "# Create a new column for period grouping\n",
    "data['Period'] = data['Year'].apply(lambda x: '≤ 2015' if x <= 2015 else '> 2015')\n",
    "\n",
    "# Plotting\n",
    "plt.figure(figsize=(10, 6))\n",
    "sns.set(style=\"whitegrid\")\n",
    "\n",
    "sns.boxplot(x='Period', y='Notifications', data=data, palette=\"Set2\")\n",
    "\n",
    "plt.title(\"Distribution of TB Notifications Before and After 2015\", fontsize=16)\n",
    "plt.xlabel(\"Period\", fontsize=14)\n",
    "plt.ylabel(\"Number of Notifications\", fontsize=14)\n",
    "plt.xticks(fontsize=12)\n",
    "plt.yticks(fontsize=12)\n",
    "plt.tight_layout()\n",
    "plt.show()\n"
   ]
  },
  {
   "cell_type": "code",
   "execution_count": 50,
   "metadata": {},
   "outputs": [
    {
     "data": {
      "image/png": "[encoded data removed]",
      "text/plain": [
       "<Figure size 864x432 with 1 Axes>"
      ]
     },
     "metadata": {},
     "output_type": "display_data"
    }
   ],
   "source": [
    "# Sort by year\n",
    "df_forma = df_forma.sort_values(\"NU_ANO\")\n",
    "\n",
    "# Plot\n",
    "plt.figure(figsize=(12, 6))\n",
    "sns.lineplot(data=df_forma[df_forma.FORMA == 3], x=\"NU_ANO\", y=\"ones\", hue=\"FORMA\", marker=\"o\")\n",
    "\n",
    "plt.title(\"TB Notifications Over Time by Severity\", fontsize=16)\n",
    "plt.xlabel(\"Year\")\n",
    "plt.ylabel(\"Number of Notifications\")\n",
    "plt.xticks(rotation=45)\n",
    "plt.legend(title=\"Severity\")\n",
    "plt.tight_layout()\n",
    "plt.show()"
   ]
  },
  {
   "cell_type": "code",
   "execution_count": 18,
   "metadata": {},
   "outputs": [
    {
     "data": {
      "text/plain": [
       "M    1412831\n",
       "F     673858\n",
       "Name: CS_SEXO, dtype: int64"
      ]
     },
     "execution_count": 18,
     "metadata": {},
     "output_type": "execute_result"
    }
   ],
   "source": [
    "#df.groupby(['CS_SEXO','NU_ANO'])['ones'].sum().reset_index()\n",
    "df.CS_SEXO.value_counts()"
   ]
  },
  {
   "cell_type": "code",
   "execution_count": 42,
   "metadata": {
    "scrolled": false
   },
   "outputs": [
    {
     "data": {
      "image/png": "[encoded data removed]",
      "text/plain": [
       "<Figure size 864x432 with 1 Axes>"
      ]
     },
     "metadata": {},
     "output_type": "display_data"
    }
   ],
   "source": [
    "df_sex = df.groupby(['CS_SEXO','NU_ANO'])['ones'].sum().reset_index()\n",
    "\n",
    "# Sort by year\n",
    "df_sex = df_sex.sort_values(\"NU_ANO\")\n",
    "\n",
    "# Plot\n",
    "plt.figure(figsize=(12, 6))\n",
    "sns.lineplot(data=df_sex, x=\"NU_ANO\", y=\"ones\", hue=\"CS_SEXO\", marker=\"o\")\n",
    "\n",
    "plt.title(\"TB Notifications Over Time by Sex\", fontsize=16)\n",
    "plt.xlabel(\"Year\")\n",
    "plt.ylabel(\"Number of Notifications\")\n",
    "plt.xticks(rotation=45)\n",
    "plt.legend(title=\"Sex\")\n",
    "plt.tight_layout()\n",
    "plt.show()\n"
   ]
  },
  {
   "cell_type": "code",
   "execution_count": 43,
   "metadata": {},
   "outputs": [
    {
     "data": {
      "text/plain": [
       "4    829757\n",
       "1    577584\n",
       "9    393989\n",
       "2    248036\n",
       "5     19992\n",
       "3     17331\n",
       "Name: CS_RACA, dtype: int64"
      ]
     },
     "execution_count": 43,
     "metadata": {},
     "output_type": "execute_result"
    }
   ],
   "source": [
    "#1-Branca 2-Preta 3-Amarela 4-Parda 5-Indígena 9- Ignorad\n",
    "df.CS_RACA.value_counts()"
   ]
  },
  {
   "cell_type": "code",
   "execution_count": 44,
   "metadata": {},
   "outputs": [],
   "source": [
    "df_raca = df.groupby(['NU_ANO','CS_RACA'])['ones'].sum().reset_index()"
   ]
  },
  {
   "cell_type": "code",
   "execution_count": 45,
   "metadata": {},
   "outputs": [],
   "source": [
    "raca_labels = {\n",
    "    1: 'Branca',\n",
    "    2: 'Preta',\n",
    "    3: 'Amarela',\n",
    "    4: 'Parda',\n",
    "    5: 'Indígena',\n",
    "    9: 'Ignorado'\n",
    "}\n",
    "\n",
    "df_raca['CS_RACA'] = df_raca['CS_RACA'].map(raca_labels)\n"
   ]
  },
  {
   "cell_type": "code",
   "execution_count": 46,
   "metadata": {},
   "outputs": [
    {
     "data": {
      "image/png": "[encoded data removed]",
      "text/plain": [
       "<Figure size 1008x432 with 1 Axes>"
      ]
     },
     "metadata": {},
     "output_type": "display_data"
    }
   ],
   "source": [
    "# Sort by year for correct line plotting\n",
    "df_raca = df_raca.sort_values('NU_ANO')\n",
    "\n",
    "# Plot\n",
    "plt.figure(figsize=(14, 6))\n",
    "sns.lineplot(data=df_raca, x='NU_ANO', y='ones', hue='CS_RACA', marker='o')\n",
    "\n",
    "plt.title('TB Notifications Over Time by Race/Color', fontsize=16)\n",
    "plt.xlabel('Year')\n",
    "plt.ylabel('Number of Notifications')\n",
    "plt.legend(title='Race/Color')\n",
    "plt.xticks(rotation=45)\n",
    "plt.tight_layout()\n",
    "plt.show()\n"
   ]
  },
  {
   "cell_type": "code",
   "execution_count": 47,
   "metadata": {
    "scrolled": false
   },
   "outputs": [
    {
     "name": "stdout",
     "output_type": "stream",
     "text": [
      "Branca\n",
      "Kendall’s tau: 0.2253\n",
      "P-value: 0.1404\n",
      "Preta\n",
      "Kendall’s tau: 0.6838\n",
      "P-value: 6.587e-07\n",
      "Amarela\n",
      "Kendall’s tau: 0.0435\n",
      "P-value: 0.794\n",
      "Parda\n",
      "Kendall’s tau: 0.9605\n",
      "P-value: 6.044e-18\n",
      "Indígena\n",
      "Kendall’s tau: 0.3597\n",
      "P-value: 0.01621\n",
      "Ignorado\n",
      "Kendall’s tau: -0.4466\n",
      "P-value: 0.002413\n"
     ]
    }
   ],
   "source": [
    "for value in df_raca.CS_RACA.unique():\n",
    "    # Perform Kendall's tau test\n",
    "    tau, p_value = kendalltau(df_raca[df_raca.CS_RACA == value][\"NU_ANO\"], df_raca[df_raca.CS_RACA == value][\"ones\"])\n",
    "\n",
    "    # Output results\n",
    "    print(value)\n",
    "    print(f\"Kendall’s tau: {tau:.4f}\")\n",
    "    print(f\"P-value: {p_value:.4g}\")"
   ]
  },
  {
   "cell_type": "code",
   "execution_count": 48,
   "metadata": {
    "scrolled": true
   },
   "outputs": [
    {
     "data": {
      "text/plain": [
       "0.0    1111914\n",
       "2.0     815021\n",
       "1.0     103450\n",
       "9.0      44040\n",
       "Name: POP_LIBER, dtype: int64"
      ]
     },
     "execution_count": 48,
     "metadata": {},
     "output_type": "execute_result"
    }
   ],
   "source": [
    "# 1-Sim 2-Não 9-Ignorado\n",
    "df.POP_LIBER.value_counts()"
   ]
  },
  {
   "cell_type": "code",
   "execution_count": 49,
   "metadata": {},
   "outputs": [
    {
     "data": {
      "text/plain": [
       "0.0    1113209\n",
       "2.0     873728\n",
       "9.0      47906\n",
       "1.0      37924\n",
       "Name: POP_RUA, dtype: int64"
      ]
     },
     "execution_count": 49,
     "metadata": {},
     "output_type": "execute_result"
    }
   ],
   "source": [
    "df.POP_RUA.value_counts()"
   ]
  },
  {
   "cell_type": "code",
   "execution_count": 50,
   "metadata": {},
   "outputs": [
    {
     "data": {
      "text/plain": [
       "0.0    1113406\n",
       "2.0     800013\n",
       "3.0      95814\n",
       "9.0      51876\n",
       "1.0      11420\n",
       "Name: POP_SAUDE, dtype: int64"
      ]
     },
     "execution_count": 50,
     "metadata": {},
     "output_type": "execute_result"
    }
   ],
   "source": [
    "df.POP_SAUDE.value_counts()"
   ]
  },
  {
   "cell_type": "code",
   "execution_count": 51,
   "metadata": {},
   "outputs": [
    {
     "data": {
      "text/plain": [
       "0.0    1137151\n",
       "2.0     848714\n",
       "9.0      58179\n",
       "3.0      22229\n",
       "1.0       5511\n",
       "Name: POP_IMIG, dtype: int64"
      ]
     },
     "execution_count": 51,
     "metadata": {},
     "output_type": "execute_result"
    }
   ],
   "source": [
    "df.POP_IMIG.value_counts()"
   ]
  },
  {
   "cell_type": "code",
   "execution_count": 119,
   "metadata": {},
   "outputs": [
    {
     "data": {
      "text/plain": [
       "0.0    1257889\n",
       "2.0     472334\n",
       "9.0     149105\n",
       "1.0      54712\n",
       "5.0          4\n",
       "7.0          2\n",
       "6.0          1\n",
       "4.0          1\n",
       "3.0          1\n",
       "8.0          1\n",
       "Name: BENEF_GOV, dtype: int64"
      ]
     },
     "execution_count": 119,
     "metadata": {},
     "output_type": "execute_result"
    }
   ],
   "source": [
    "df.BENEF_GOV.value_counts()"
   ]
  },
  {
   "cell_type": "code",
   "execution_count": null,
   "metadata": {},
   "outputs": [],
   "source": []
  },
  {
   "cell_type": "code",
   "execution_count": null,
   "metadata": {},
   "outputs": [],
   "source": []
  },
  {
   "cell_type": "code",
   "execution_count": null,
   "metadata": {},
   "outputs": [],
   "source": []
  },
  {
   "cell_type": "code",
   "execution_count": null,
   "metadata": {},
   "outputs": [],
   "source": []
  },
  {
   "cell_type": "code",
   "execution_count": null,
   "metadata": {},
   "outputs": [],
   "source": []
  },
  {
   "cell_type": "code",
   "execution_count": null,
   "metadata": {},
   "outputs": [],
   "source": []
  },
  {
   "cell_type": "code",
   "execution_count": null,
   "metadata": {},
   "outputs": [],
   "source": []
  },
  {
   "cell_type": "code",
   "execution_count": null,
   "metadata": {},
   "outputs": [],
   "source": []
  },
  {
   "cell_type": "code",
   "execution_count": null,
   "metadata": {},
   "outputs": [],
   "source": [
    "\n",
    "\n",
    "\n",
    "\n",
    "### 2. **Demographic Profile**\n",
    "Analyze counts and proportions:\n",
    "- **Age distribution** (`NU_IDADE_N`, `ANO_NASC`).\n",
    "- **Sex distribution** (`CS_SEXO`).\n",
    "- **Race/ethnicity** (`CS_RACA`), important for identifying Indigenous or other vulnerable populations.\n",
    "- **Education level** (`CS_ESCOL_N`).\n",
    "- **Pregnancy status** (`CS_GESTANT`), for women of reproductive age.\n",
    "- **Special populations**:\n",
    "  - Incarcerated (`POP_LIBER`)\n",
    "  - Homeless (`POP_RUA`)\n",
    "  - Health professionals (`POP_SAUDE`)\n",
    "  - Immigrants (`POP_IMIG`)\n",
    "  - Government assistance (`BENEF_GOV`)\n",
    "\n",
    "> ✳️ *Tip: Cross-tabulate age group × sex × special population group for equity insights.*\n",
    "\n",
    "### 3. **Clinical and Diagnostic Features**\n",
    "- **Type of TB** (`FORMA`: pulmonary vs extrapulmonary).\n",
    "- **Extrapulmonary details** (`EXTRAPU1_N`, `EXTRAPU2_N`, `EXTRAPUL_O`).\n",
    "- **Diagnostic tests performed**:\n",
    "  - Bacilloscopy (`BACILOSC_E`, `BACILOS_E2`, `BACILOSC_O`)\n",
    "  - Culture (`CULTURA_ES`, `CULTURA_OU`)\n",
    "  - Radiography (`RAIOX_TORA`)\n",
    "  - Tuberculin test (`TESTE_TUBE`)\n",
    "  - Molecular tests (`TEST_MOLEC`)\n",
    "  - Histopathology (`HISTOPATOL`)\n",
    "  - Sensitivity testing (`TEST_SENSI`)\n",
    "- **HIV coinfection** (`HIV`)\n",
    "- **Other comorbidities**: AIDS, alcoholism, diabetes, drug use, etc.\n",
    "\n",
    "> ✳️ *Summarize how many cases had each type of diagnostic test and whether the result was positive.*\n",
    "\n",
    "### 4. **Treatment Profile**\n",
    "- **Initial treatment type** (`TRATAMENTO`).\n",
    "- **Start date** of treatment (`DT_INIC_TR`) — useful for lag analysis between diagnosis and treatment.\n",
    "- **Drug regimens** used (Rifampicin, Isoniazid, etc.).\n",
    "- **Supervised treatment** (`TRAT_SUPER`, `TRATSUP_AT`).\n",
    "- **Change in treatment** (`DT_MUDANCA`, `OUTRAS`, `OUTRAS_DES`).\n",
    "- **Antiretroviral use** (`ANT_RETRO`), especially relevant in HIV+ cases.\n",
    "\n",
    "### 5. **Outcome & Follow-Up**\n",
    "- **Closure date of case** (`DT_ENCERRA`).\n",
    "- **Situation at 9 and 12 months** (`SITUA_9_M`, `SITUA_12_M`).\n",
    "- **Final outcome** (`SITUA_ENCE`): cured, treatment abandonment, death, etc.\n",
    "- **Contact tracing data** (`NU_CONTATO`) — how many people were followed up?\n",
    "\n",
    "> ✳️ *Good candidates for charts: Sankey diagrams showing treatment paths or bar charts of outcome proportions.*\n",
    "\n",
    "### 6. **Temporal and Geographic Patterns**\n",
    "- **Heat maps** of TB incidence by municipality or state.\n",
    "- **Time series** of:\n",
    "  - Case notifications by month.\n",
    "  - Follow-up outcomes over time.\n",
    "  - Treatment delays (diagnosis vs treatment start).\n",
    "\n",
    "> ✳️ *You could stratify by urban vs remote/Indigenous areas to study disparities.*\n",
    "\n",
    "### 7. **Data Quality and Completeness**\n",
    "- % of **missing values** per variable.\n",
    "- Consistency checks (e.g., `DT_NOTIFIC` before `DT_DIAG` or `DT_ENCERRA`).\n",
    "- **Duplicated records** (`NDUPLIC_N`).\n",
    "- Records that were **linked or transferred** (`IN_VINCULA`, `TRANSF`, etc.).\n",
    "\n",
    "---\n",
    "\n",
    "## 🔍 Bonus: Analysis Ideas for Modeling or Surveillance\n",
    "- **Time-to-treatment**: How long between symptom onset, diagnosis, and treatment start?\n",
    "- **Risk profiles**: Which comorbidities are most prevalent in poor outcomes?\n",
    "- **Cluster detection**: Space-time analysis for outbreaks.\n",
    "- **Data flow latency**: How long it takes for cases to reach SINAN (e.g., `DT_NOTIFIC` vs `DT_TRANSUS`).\n",
    "\n",
    "---\n",
    "\n",
    "Let me know if you're analyzing a subset (e.g., only Indigenous populations or specific years), and I can tailor this list further. I can also help with code snippets for summary tables or plots!"
   ]
  },
  {
   "cell_type": "code",
   "execution_count": 18,
   "metadata": {},
   "outputs": [
    {
     "data": {
      "text/plain": [
       "Index(['TP_NOT', 'ID_AGRAVO', 'DT_NOTIFIC', 'NU_ANO', 'SG_UF_NOT',\n",
       "       'ID_MUNICIP', 'ID_REGIONA', 'DT_DIAG', 'ANO_NASC', 'NU_IDADE_N',\n",
       "       'CS_SEXO', 'CS_GESTANT', 'CS_RACA', 'CS_ESCOL_N', 'SG_UF', 'ID_MN_RESI',\n",
       "       'ID_RG_RESI', 'ID_PAIS', 'NDUPLIC_N', 'IN_VINCULA', 'DT_DIGITA',\n",
       "       'DT_TRANSUS', 'DT_TRANSDM', 'DT_TRANSSM', 'DT_TRANSRM', 'DT_TRANSRS',\n",
       "       'DT_TRANSSE', 'CS_FLXRET', 'FLXRECEBI', 'MIGRADO_W', 'ID_OCUPA_N',\n",
       "       'TRATAMENTO', 'INSTITUCIO', 'RAIOX_TORA', 'TESTE_TUBE', 'FORMA',\n",
       "       'EXTRAPU1_N', 'EXTRAPU2_N', 'EXTRAPUL_O', 'AGRAVAIDS', 'AGRAVALCOO',\n",
       "       'AGRAVDIABE', 'AGRAVDOENC', 'AGRAVOUTRA', 'AGRAVOUTDE', 'BACILOSC_E',\n",
       "       'BACILOS_E2', 'BACILOSC_O', 'CULTURA_ES', 'CULTURA_OU', 'HIV',\n",
       "       'HISTOPATOL', 'DT_INIC_TR', 'RIFAMPICIN', 'ISONIAZIDA', 'ETAMBUTOL',\n",
       "       'ESTREPTOMI', 'PIRAZINAMI', 'ETIONAMIDA', 'OUTRAS', 'OUTRAS_DES',\n",
       "       'TRAT_SUPER', 'NU_CONTATO', 'DOENCA_TRA', 'SG_UF_AT', 'ID_MUNIC_A',\n",
       "       'DT_NOTI_AT', 'SG_UF_2', 'ID_MUNIC_2', 'BACILOSC_1', 'BACILOSC_2',\n",
       "       'BACILOSC_3', 'BACILOSC_4', 'BACILOSC_5', 'BACILOSC_6', 'TRATSUP_AT',\n",
       "       'DT_MUDANCA', 'NU_COMU_EX', 'SITUA_9_M', 'SITUA_12_M', 'SITUA_ENCE',\n",
       "       'DT_ENCERRA', 'TPUNINOT', 'POP_LIBER', 'POP_RUA', 'POP_SAUDE',\n",
       "       'POP_IMIG', 'BENEF_GOV', 'AGRAVDROGA', 'AGRAVTABAC', 'TEST_MOLEC',\n",
       "       'TEST_SENSI', 'ANT_RETRO', 'BAC_APOS_6', 'TRANSF', 'UF_TRANSF',\n",
       "       'MUN_TRANSF'],\n",
       "      dtype='object')"
      ]
     },
     "execution_count": 18,
     "metadata": {},
     "output_type": "execute_result"
    }
   ],
   "source": [
    "df.columns"
   ]
  },
  {
   "cell_type": "code",
   "execution_count": 14,
   "metadata": {},
   "outputs": [
    {
     "data": {
      "text/plain": [
       "2    2091711\n",
       "Name: TP_NOT, dtype: int64"
      ]
     },
     "execution_count": 14,
     "metadata": {},
     "output_type": "execute_result"
    }
   ],
   "source": [
    "df.TP_NOT.value_counts()"
   ]
  },
  {
   "cell_type": "code",
   "execution_count": 16,
   "metadata": {
    "scrolled": false
   },
   "outputs": [
    {
     "data": {
      "text/plain": [
       "A169    2091706\n",
       "A16.          4\n",
       "A144          1\n",
       "Name: ID_AGRAVO, dtype: int64"
      ]
     },
     "execution_count": 16,
     "metadata": {},
     "output_type": "execute_result"
    }
   ],
   "source": [
    "df.ID_AGRAVO.value_counts()"
   ]
  },
  {
   "cell_type": "code",
   "execution_count": null,
   "metadata": {},
   "outputs": [],
   "source": [
    "['DT_NOTIFIC', 'NU_ANO', 'SG_UF_NOT',\n",
    "       'ID_MUNICIP', 'ID_REGIONA', 'DT_DIAG', 'ANO_NASC', 'NU_IDADE_N',\n",
    "       'CS_SEXO', 'CS_GESTANT', 'CS_RACA', 'CS_ESCOL_N', 'SG_UF', 'ID_MN_RESI',\n",
    "       'ID_RG_RESI', 'ID_PAIS', 'NDUPLIC_N', 'IN_VINCULA', 'DT_DIGITA',\n",
    "       'DT_TRANSUS', 'DT_TRANSDM', 'DT_TRANSSM', 'DT_TRANSRM', 'DT_TRANSRS',\n",
    "       'DT_TRANSSE', 'CS_FLXRET', 'FLXRECEBI', 'MIGRADO_W', 'ID_OCUPA_N',\n",
    "       'TRATAMENTO', 'INSTITUCIO', 'RAIOX_TORA', 'TESTE_TUBE', 'FORMA',\n",
    "       'EXTRAPU1_N', 'EXTRAPU2_N', 'EXTRAPUL_O', 'AGRAVAIDS', 'AGRAVALCOO',\n",
    "       'AGRAVDIABE', 'AGRAVDOENC', 'AGRAVOUTRA', 'AGRAVOUTDE', 'BACILOSC_E',\n",
    "       'BACILOS_E2', 'BACILOSC_O', 'CULTURA_ES', 'CULTURA_OU', 'HIV',\n",
    "       'HISTOPATOL', 'DT_INIC_TR', 'RIFAMPICIN', 'ISONIAZIDA', 'ETAMBUTOL',\n",
    "       'ESTREPTOMI', 'PIRAZINAMI', 'ETIONAMIDA', 'OUTRAS', 'OUTRAS_DES',\n",
    "       'TRAT_SUPER', 'NU_CONTATO', 'DOENCA_TRA', 'SG_UF_AT', 'ID_MUNIC_A',\n",
    "       'DT_NOTI_AT', 'SG_UF_2', 'ID_MUNIC_2', 'BACILOSC_1', 'BACILOSC_2',\n",
    "       'BACILOSC_3', 'BACILOSC_4', 'BACILOSC_5', 'BACILOSC_6', 'TRATSUP_AT',\n",
    "       'DT_MUDANCA', 'NU_COMU_EX', 'SITUA_9_M', 'SITUA_12_M', 'SITUA_ENCE',\n",
    "       'DT_ENCERRA', 'TPUNINOT', 'POP_LIBER', 'POP_RUA', 'POP_SAUDE',\n",
    "       'POP_IMIG', 'BENEF_GOV', 'AGRAVDROGA', 'AGRAVTABAC', 'TEST_MOLEC',\n",
    "       'TEST_SENSI', 'ANT_RETRO', 'BAC_APOS_6', 'TRANSF', 'UF_TRANSF',\n",
    "       'MUN_TRANSF']"
   ]
  },
  {
   "cell_type": "code",
   "execution_count": 17,
   "metadata": {},
   "outputs": [
    {
     "data": {
      "text/html": [
       "<div>\n",
       "<style scoped>\n",
       "    .dataframe tbody tr th:only-of-type {\n",
       "        vertical-align: middle;\n",
       "    }\n",
       "\n",
       "    .dataframe tbody tr th {\n",
       "        vertical-align: top;\n",
       "    }\n",
       "\n",
       "    .dataframe thead th {\n",
       "        text-align: right;\n",
       "    }\n",
       "</style>\n",
       "<table border=\"1\" class=\"dataframe\">\n",
       "  <thead>\n",
       "    <tr style=\"text-align: right;\">\n",
       "      <th></th>\n",
       "      <th>TP_NOT</th>\n",
       "      <th>ID_AGRAVO</th>\n",
       "      <th>DT_NOTIFIC</th>\n",
       "      <th>NU_ANO</th>\n",
       "      <th>SG_UF_NOT</th>\n",
       "      <th>ID_MUNICIP</th>\n",
       "      <th>ID_REGIONA</th>\n",
       "      <th>DT_DIAG</th>\n",
       "      <th>ANO_NASC</th>\n",
       "      <th>NU_IDADE_N</th>\n",
       "      <th>...</th>\n",
       "      <th>BENEF_GOV</th>\n",
       "      <th>AGRAVDROGA</th>\n",
       "      <th>AGRAVTABAC</th>\n",
       "      <th>TEST_MOLEC</th>\n",
       "      <th>TEST_SENSI</th>\n",
       "      <th>ANT_RETRO</th>\n",
       "      <th>BAC_APOS_6</th>\n",
       "      <th>TRANSF</th>\n",
       "      <th>UF_TRANSF</th>\n",
       "      <th>MUN_TRANSF</th>\n",
       "    </tr>\n",
       "  </thead>\n",
       "  <tbody>\n",
       "    <tr>\n",
       "      <th>0</th>\n",
       "      <td>2</td>\n",
       "      <td>A169</td>\n",
       "      <td>2009-03-18</td>\n",
       "      <td>2009</td>\n",
       "      <td>12</td>\n",
       "      <td>120045.0</td>\n",
       "      <td>0.0</td>\n",
       "      <td>2009-03-18</td>\n",
       "      <td>1930</td>\n",
       "      <td>4079.0</td>\n",
       "      <td>...</td>\n",
       "      <td>2.0</td>\n",
       "      <td>2.0</td>\n",
       "      <td>2.0</td>\n",
       "      <td>0.0</td>\n",
       "      <td>0.0</td>\n",
       "      <td>0.0</td>\n",
       "      <td>0.0</td>\n",
       "      <td>0.0</td>\n",
       "      <td>NaN</td>\n",
       "      <td>NaN</td>\n",
       "    </tr>\n",
       "    <tr>\n",
       "      <th>1</th>\n",
       "      <td>2</td>\n",
       "      <td>A169</td>\n",
       "      <td>2009-10-19</td>\n",
       "      <td>2009</td>\n",
       "      <td>12</td>\n",
       "      <td>120034.0</td>\n",
       "      <td>0.0</td>\n",
       "      <td>2009-05-19</td>\n",
       "      <td>1972</td>\n",
       "      <td>4037.0</td>\n",
       "      <td>...</td>\n",
       "      <td>0.0</td>\n",
       "      <td>0.0</td>\n",
       "      <td>0.0</td>\n",
       "      <td>0.0</td>\n",
       "      <td>0.0</td>\n",
       "      <td>0.0</td>\n",
       "      <td>0.0</td>\n",
       "      <td>0.0</td>\n",
       "      <td>NaN</td>\n",
       "      <td>NaN</td>\n",
       "    </tr>\n",
       "    <tr>\n",
       "      <th>2</th>\n",
       "      <td>2</td>\n",
       "      <td>A169</td>\n",
       "      <td>2009-02-09</td>\n",
       "      <td>2009</td>\n",
       "      <td>12</td>\n",
       "      <td>120020.0</td>\n",
       "      <td>0.0</td>\n",
       "      <td>2009-02-06</td>\n",
       "      <td>1946</td>\n",
       "      <td>4062.0</td>\n",
       "      <td>...</td>\n",
       "      <td>0.0</td>\n",
       "      <td>0.0</td>\n",
       "      <td>0.0</td>\n",
       "      <td>0.0</td>\n",
       "      <td>0.0</td>\n",
       "      <td>0.0</td>\n",
       "      <td>0.0</td>\n",
       "      <td>0.0</td>\n",
       "      <td>NaN</td>\n",
       "      <td>NaN</td>\n",
       "    </tr>\n",
       "    <tr>\n",
       "      <th>3</th>\n",
       "      <td>2</td>\n",
       "      <td>A169</td>\n",
       "      <td>2009-06-23</td>\n",
       "      <td>2009</td>\n",
       "      <td>12</td>\n",
       "      <td>120025.0</td>\n",
       "      <td>0.0</td>\n",
       "      <td>2009-06-01</td>\n",
       "      <td>1969</td>\n",
       "      <td>4039.0</td>\n",
       "      <td>...</td>\n",
       "      <td>0.0</td>\n",
       "      <td>0.0</td>\n",
       "      <td>0.0</td>\n",
       "      <td>0.0</td>\n",
       "      <td>0.0</td>\n",
       "      <td>0.0</td>\n",
       "      <td>0.0</td>\n",
       "      <td>0.0</td>\n",
       "      <td>NaN</td>\n",
       "      <td>NaN</td>\n",
       "    </tr>\n",
       "    <tr>\n",
       "      <th>4</th>\n",
       "      <td>2</td>\n",
       "      <td>A169</td>\n",
       "      <td>2009-08-21</td>\n",
       "      <td>2009</td>\n",
       "      <td>12</td>\n",
       "      <td>120040.0</td>\n",
       "      <td>0.0</td>\n",
       "      <td>2009-08-20</td>\n",
       "      <td>1968</td>\n",
       "      <td>4041.0</td>\n",
       "      <td>...</td>\n",
       "      <td>0.0</td>\n",
       "      <td>0.0</td>\n",
       "      <td>0.0</td>\n",
       "      <td>0.0</td>\n",
       "      <td>0.0</td>\n",
       "      <td>0.0</td>\n",
       "      <td>0.0</td>\n",
       "      <td>0.0</td>\n",
       "      <td>NaN</td>\n",
       "      <td>NaN</td>\n",
       "    </tr>\n",
       "    <tr>\n",
       "      <th>...</th>\n",
       "      <td>...</td>\n",
       "      <td>...</td>\n",
       "      <td>...</td>\n",
       "      <td>...</td>\n",
       "      <td>...</td>\n",
       "      <td>...</td>\n",
       "      <td>...</td>\n",
       "      <td>...</td>\n",
       "      <td>...</td>\n",
       "      <td>...</td>\n",
       "      <td>...</td>\n",
       "      <td>...</td>\n",
       "      <td>...</td>\n",
       "      <td>...</td>\n",
       "      <td>...</td>\n",
       "      <td>...</td>\n",
       "      <td>...</td>\n",
       "      <td>...</td>\n",
       "      <td>...</td>\n",
       "      <td>...</td>\n",
       "      <td>...</td>\n",
       "    </tr>\n",
       "    <tr>\n",
       "      <th>2091706</th>\n",
       "      <td>2</td>\n",
       "      <td>A169</td>\n",
       "      <td>2017-05-02</td>\n",
       "      <td>2017</td>\n",
       "      <td>35</td>\n",
       "      <td>355030.0</td>\n",
       "      <td>0.0</td>\n",
       "      <td>2008-07-21</td>\n",
       "      <td>1981</td>\n",
       "      <td>4035.0</td>\n",
       "      <td>...</td>\n",
       "      <td>0.0</td>\n",
       "      <td>2.0</td>\n",
       "      <td>2.0</td>\n",
       "      <td>5.0</td>\n",
       "      <td>7.0</td>\n",
       "      <td>0.0</td>\n",
       "      <td>0.0</td>\n",
       "      <td>0.0</td>\n",
       "      <td>NaN</td>\n",
       "      <td>NaN</td>\n",
       "    </tr>\n",
       "    <tr>\n",
       "      <th>2091707</th>\n",
       "      <td>2</td>\n",
       "      <td>A169</td>\n",
       "      <td>2014-04-01</td>\n",
       "      <td>2014</td>\n",
       "      <td>35</td>\n",
       "      <td>355030.0</td>\n",
       "      <td>0.0</td>\n",
       "      <td>2008-09-15</td>\n",
       "      <td>1976</td>\n",
       "      <td>4039.0</td>\n",
       "      <td>...</td>\n",
       "      <td>0.0</td>\n",
       "      <td>2.0</td>\n",
       "      <td>2.0</td>\n",
       "      <td>5.0</td>\n",
       "      <td>7.0</td>\n",
       "      <td>1.0</td>\n",
       "      <td>0.0</td>\n",
       "      <td>0.0</td>\n",
       "      <td>NaN</td>\n",
       "      <td>NaN</td>\n",
       "    </tr>\n",
       "    <tr>\n",
       "      <th>2091708</th>\n",
       "      <td>2</td>\n",
       "      <td>A169</td>\n",
       "      <td>2017-05-02</td>\n",
       "      <td>2017</td>\n",
       "      <td>35</td>\n",
       "      <td>355030.0</td>\n",
       "      <td>0.0</td>\n",
       "      <td>2008-07-21</td>\n",
       "      <td>1981</td>\n",
       "      <td>4035.0</td>\n",
       "      <td>...</td>\n",
       "      <td>0.0</td>\n",
       "      <td>2.0</td>\n",
       "      <td>2.0</td>\n",
       "      <td>5.0</td>\n",
       "      <td>7.0</td>\n",
       "      <td>0.0</td>\n",
       "      <td>0.0</td>\n",
       "      <td>0.0</td>\n",
       "      <td>NaN</td>\n",
       "      <td>NaN</td>\n",
       "    </tr>\n",
       "    <tr>\n",
       "      <th>2091709</th>\n",
       "      <td>2</td>\n",
       "      <td>A169</td>\n",
       "      <td>2014-04-01</td>\n",
       "      <td>2014</td>\n",
       "      <td>35</td>\n",
       "      <td>355030.0</td>\n",
       "      <td>0.0</td>\n",
       "      <td>2008-09-15</td>\n",
       "      <td>1976</td>\n",
       "      <td>4039.0</td>\n",
       "      <td>...</td>\n",
       "      <td>0.0</td>\n",
       "      <td>2.0</td>\n",
       "      <td>2.0</td>\n",
       "      <td>5.0</td>\n",
       "      <td>7.0</td>\n",
       "      <td>1.0</td>\n",
       "      <td>0.0</td>\n",
       "      <td>0.0</td>\n",
       "      <td>NaN</td>\n",
       "      <td>NaN</td>\n",
       "    </tr>\n",
       "    <tr>\n",
       "      <th>2091710</th>\n",
       "      <td>2</td>\n",
       "      <td>A169</td>\n",
       "      <td>2019-10-02</td>\n",
       "      <td>2019</td>\n",
       "      <td>35</td>\n",
       "      <td>355030.0</td>\n",
       "      <td>0.0</td>\n",
       "      <td>2008-10-01</td>\n",
       "      <td>1962</td>\n",
       "      <td>4056.0</td>\n",
       "      <td>...</td>\n",
       "      <td>0.0</td>\n",
       "      <td>2.0</td>\n",
       "      <td>1.0</td>\n",
       "      <td>1.0</td>\n",
       "      <td>5.0</td>\n",
       "      <td>0.0</td>\n",
       "      <td>0.0</td>\n",
       "      <td>0.0</td>\n",
       "      <td>NaN</td>\n",
       "      <td>NaN</td>\n",
       "    </tr>\n",
       "  </tbody>\n",
       "</table>\n",
       "<p>2091711 rows × 97 columns</p>\n",
       "</div>"
      ],
      "text/plain": [
       "         TP_NOT ID_AGRAVO  DT_NOTIFIC  NU_ANO  SG_UF_NOT  ID_MUNICIP  \\\n",
       "0             2      A169  2009-03-18    2009         12    120045.0   \n",
       "1             2      A169  2009-10-19    2009         12    120034.0   \n",
       "2             2      A169  2009-02-09    2009         12    120020.0   \n",
       "3             2      A169  2009-06-23    2009         12    120025.0   \n",
       "4             2      A169  2009-08-21    2009         12    120040.0   \n",
       "...         ...       ...         ...     ...        ...         ...   \n",
       "2091706       2      A169  2017-05-02    2017         35    355030.0   \n",
       "2091707       2      A169  2014-04-01    2014         35    355030.0   \n",
       "2091708       2      A169  2017-05-02    2017         35    355030.0   \n",
       "2091709       2      A169  2014-04-01    2014         35    355030.0   \n",
       "2091710       2      A169  2019-10-02    2019         35    355030.0   \n",
       "\n",
       "         ID_REGIONA     DT_DIAG ANO_NASC  NU_IDADE_N  ... BENEF_GOV  \\\n",
       "0               0.0  2009-03-18     1930      4079.0  ...       2.0   \n",
       "1               0.0  2009-05-19     1972      4037.0  ...       0.0   \n",
       "2               0.0  2009-02-06     1946      4062.0  ...       0.0   \n",
       "3               0.0  2009-06-01     1969      4039.0  ...       0.0   \n",
       "4               0.0  2009-08-20     1968      4041.0  ...       0.0   \n",
       "...             ...         ...      ...         ...  ...       ...   \n",
       "2091706         0.0  2008-07-21     1981      4035.0  ...       0.0   \n",
       "2091707         0.0  2008-09-15     1976      4039.0  ...       0.0   \n",
       "2091708         0.0  2008-07-21     1981      4035.0  ...       0.0   \n",
       "2091709         0.0  2008-09-15     1976      4039.0  ...       0.0   \n",
       "2091710         0.0  2008-10-01     1962      4056.0  ...       0.0   \n",
       "\n",
       "         AGRAVDROGA  AGRAVTABAC  TEST_MOLEC  TEST_SENSI  ANT_RETRO  \\\n",
       "0               2.0         2.0         0.0         0.0        0.0   \n",
       "1               0.0         0.0         0.0         0.0        0.0   \n",
       "2               0.0         0.0         0.0         0.0        0.0   \n",
       "3               0.0         0.0         0.0         0.0        0.0   \n",
       "4               0.0         0.0         0.0         0.0        0.0   \n",
       "...             ...         ...         ...         ...        ...   \n",
       "2091706         2.0         2.0         5.0         7.0        0.0   \n",
       "2091707         2.0         2.0         5.0         7.0        1.0   \n",
       "2091708         2.0         2.0         5.0         7.0        0.0   \n",
       "2091709         2.0         2.0         5.0         7.0        1.0   \n",
       "2091710         2.0         1.0         1.0         5.0        0.0   \n",
       "\n",
       "         BAC_APOS_6  TRANSF  UF_TRANSF  MUN_TRANSF  \n",
       "0               0.0     0.0        NaN         NaN  \n",
       "1               0.0     0.0        NaN         NaN  \n",
       "2               0.0     0.0        NaN         NaN  \n",
       "3               0.0     0.0        NaN         NaN  \n",
       "4               0.0     0.0        NaN         NaN  \n",
       "...             ...     ...        ...         ...  \n",
       "2091706         0.0     0.0        NaN         NaN  \n",
       "2091707         0.0     0.0        NaN         NaN  \n",
       "2091708         0.0     0.0        NaN         NaN  \n",
       "2091709         0.0     0.0        NaN         NaN  \n",
       "2091710         0.0     0.0        NaN         NaN  \n",
       "\n",
       "[2091711 rows x 97 columns]"
      ]
     },
     "execution_count": 17,
     "metadata": {},
     "output_type": "execute_result"
    }
   ],
   "source": [
    "df"
   ]
  },
  {
   "cell_type": "code",
   "execution_count": 9,
   "metadata": {},
   "outputs": [
    {
     "data": {
      "text/plain": [
       "0          1.0\n",
       "1          5.0\n",
       "2          4.0\n",
       "3          4.0\n",
       "4          4.0\n",
       "          ... \n",
       "2091706    2.0\n",
       "2091707    1.0\n",
       "2091708    2.0\n",
       "2091709    1.0\n",
       "2091710    4.0\n",
       "Name: CS_RACA, Length: 2091711, dtype: float64"
      ]
     },
     "execution_count": 9,
     "metadata": {},
     "output_type": "execute_result"
    }
   ],
   "source": [
    "df['CS_RACA']"
   ]
  },
  {
   "cell_type": "code",
   "execution_count": null,
   "metadata": {},
   "outputs": [],
   "source": []
  }
 ],
 "metadata": {
  "kernelspec": {
   "display_name": "Python 3",
   "language": "python",
   "name": "python3"
  },
  "language_info": {
   "codemirror_mode": {
    "name": "ipython",
    "version": 3
   },
   "file_extension": ".py",
   "mimetype": "text/x-python",
   "name": "python",
   "nbconvert_exporter": "python",
   "pygments_lexer": "ipython3",
   "version": "3.8.5"
  }
 },
 "nbformat": 4,
 "nbformat_minor": 4
}
